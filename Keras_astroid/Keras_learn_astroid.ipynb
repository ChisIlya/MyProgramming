{
 "cells": [
  {
   "cell_type": "code",
   "execution_count": 1,
   "metadata": {},
   "outputs": [
    {
     "name": "stderr",
     "output_type": "stream",
     "text": [
      "Using TensorFlow backend.\n"
     ]
    }
   ],
   "source": [
    "import os\n",
    "import numpy as np \n",
    "from keras.models import Model \n",
    "from keras.layers import Input, Dense \n",
    "from keras.utils import np_utils \n",
    "import math\n",
    "import matplotlib.pyplot as plt"
   ]
  },
  {
   "cell_type": "code",
   "execution_count": 2,
   "metadata": {},
   "outputs": [],
   "source": [
    "X = []\n",
    "\n",
    "for i in range(0, 120):\n",
    "    for j in range(0, 120):\n",
    "        X.append((0.05*i-3, 0.05*j-3)) \n",
    "        \n",
    "X = np.array(X)\n",
    "\n",
    "Y = [\n",
    "    1 if math.fabs(x)**0.6666 + math.fabs(y)**0.6666 <= 2 else 0\n",
    "    for [x, y] in X\n",
    "]"
   ]
  },
  {
   "cell_type": "code",
   "execution_count": 3,
   "metadata": {},
   "outputs": [
    {
     "name": "stdout",
     "output_type": "stream",
     "text": [
      "WARNING:tensorflow:From c:\\python37\\lib\\site-packages\\tensorflow\\python\\framework\\op_def_library.py:263: colocate_with (from tensorflow.python.framework.ops) is deprecated and will be removed in a future version.\n",
      "Instructions for updating:\n",
      "Colocations handled automatically by placer.\n"
     ]
    },
    {
     "name": "stderr",
     "output_type": "stream",
     "text": [
      "c:\\python37\\lib\\site-packages\\ipykernel_launcher.py:6: UserWarning: Update your `Model` call to the Keras 2 API: `Model(inputs=Tensor(\"in..., outputs=Tensor(\"de...)`\n",
      "  \n"
     ]
    }
   ],
   "source": [
    "l0 = Input(shape=(2,))\n",
    "l1 = Dense(6, activation='sigmoid', use_bias=True)(l0)\n",
    "l2 = Dense(6, activation='sigmoid', use_bias=True)(l1) \n",
    "l3 = Dense(1, activation='sigmoid', use_bias=False)(l2)\n",
    "\n",
    "model = Model(input=l0, output=l3)\n",
    "\n",
    "model.compile(\n",
    "    loss='mean_squared_error',\n",
    "    optimizer='adam',\n",
    "    metrics=['accuracy']\n",
    ")"
   ]
  },
  {
   "cell_type": "code",
   "execution_count": 7,
   "metadata": {},
   "outputs": [],
   "source": [
    "if os.path.isfile(\"learn_matrix_2.1\"):\n",
    "    model.load_weights(\"learn_matrix_2.1\")\n",
    "else:\n",
    "    model.fit(\n",
    "        X, Y,\n",
    "        epochs=2000,\n",
    "        verbose=False\n",
    "    )\n",
    "    model.save(\"learn_matrix_2.1\")"
   ]
  },
  {
   "cell_type": "code",
   "execution_count": 8,
   "metadata": {},
   "outputs": [
    {
     "data": {
      "image/png": "[encoded data removed]",
      "text/plain": [
       "<Figure size 432x288 with 1 Axes>"
      ]
     },
     "metadata": {
      "needs_background": "light"
     },
     "output_type": "display_data"
    }
   ],
   "source": [
    "%matplotlib inline\n",
    "\n",
    "\n",
    "\n",
    "plt.axis('equal')\n",
    "\n",
    "c = np.r_[-3:3:0.1]\n",
    "\n",
    "XY = np.transpose([np.tile(c, len(c)), np.repeat(c, len(c))])\n",
    "\n",
    "Z = model.predict(XY)\n",
    "\n",
    "for (x, y), z in zip(XY, Z):\n",
    "    plt.scatter(x, y, c='red' if z[0] >= 0.5 else 'green')\n",
    "\n",
    "plt.show()\n"
   ]
  },
  {
   "cell_type": "code",
   "execution_count": 9,
   "metadata": {},
   "outputs": [
    {
     "data": {
      "image/png": "[encoded data removed]",
      "text/plain": [
       "<Figure size 432x288 with 1 Axes>"
      ]
     },
     "metadata": {
      "needs_background": "light"
     },
     "output_type": "display_data"
    }
   ],
   "source": [
    "def saturate(v):\n",
    "    return min(1, max(0, v))\n",
    "\n",
    "for (x, y), z in zip(XY, Z):\n",
    "    plt.scatter(x, y, color=[(1, 1-saturate(z[0]), 1-saturate(z[0]))])\n",
    "\n",
    "plt.show()"
   ]
  },
  {
   "cell_type": "code",
   "execution_count": null,
   "metadata": {},
   "outputs": [],
   "source": []
  }
 ],
 "metadata": {
  "kernelspec": {
   "display_name": "Python 3",
   "language": "python",
   "name": "python3"
  },
  "language_info": {
   "codemirror_mode": {
    "name": "ipython",
    "version": 3
   },
   "file_extension": ".py",
   "mimetype": "text/x-python",
   "name": "python",
   "nbconvert_exporter": "python",
   "pygments_lexer": "ipython3",
   "version": "3.7.0"
  }
 },
 "nbformat": 4,
 "nbformat_minor": 2
}
