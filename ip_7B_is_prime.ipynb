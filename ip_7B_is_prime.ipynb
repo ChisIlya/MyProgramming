import math
import functools

def is_prime(a):
    x = True
    if a < 2:
        x = False
    elif a == 2:
        x = True
    elif a % 2 == 0:
        x = False
    else:
        for i in range(3, int(math.sqrt(a) + 1), 2):
            if(a % i == 0):
                x = False
                break
    return x

a = input()
a = int(a)
print(is_prime(a))

@functools.lru_cache()
def is_prime_cached(a):
    return is_prime(a)

%timeit is_simple(500)
%timeit is_simple_cached(500)
print(is_prime_cached(500))
